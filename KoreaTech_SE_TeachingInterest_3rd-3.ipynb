{
 "cells": [
  {
   "cell_type": "markdown",
   "metadata": {
    "id": "E0N8ypTbPPlB"
   },
   "source": [
    "# 추측통계의 기본"
   ]
  },
  {
   "cell_type": "markdown",
   "metadata": {
    "ExecuteTime": {
     "end_time": "2018-03-06T03:37:40.696920Z",
     "start_time": "2018-03-06T03:37:40.690655Z"
    },
    "id": "E4o7izVrPPlE"
   },
   "source": [
    "## 모집단과 표본"
   ]
  },
  {
   "cell_type": "markdown",
   "metadata": {
    "id": "8Vuqe8LdPPlF"
   },
   "source": [
    "### 표본의 추출방법"
   ]
  },
  {
   "cell_type": "code",
   "execution_count": 1,
   "metadata": {
    "ExecuteTime": {
     "end_time": "2018-08-18T08:14:56.358857Z",
     "start_time": "2018-08-18T08:14:56.124816Z"
    },
    "id": "uG02btMCPPlF"
   },
   "outputs": [],
   "source": [
    "import numpy as np\n",
    "import pandas as pd\n",
    "import matplotlib.pyplot as plt\n",
    "\n",
    "%precision 3\n",
    "%matplotlib inline"
   ]
  },
  {
   "cell_type": "code",
   "execution_count": 2,
   "metadata": {
    "ExecuteTime": {
     "end_time": "2018-08-18T08:15:59.206470Z",
     "start_time": "2018-08-18T08:15:59.202081Z"
    },
    "id": "749TXa3ZPPlG",
    "outputId": "95bd61e4-e09c-465d-8a3c-eb107c4b1bf2"
   },
   "outputs": [
    {
     "data": {
      "text/plain": [
       "array([76, 55, 80, 80, 74, 61, 81, 76, 23, 80], dtype=int64)"
      ]
     },
     "execution_count": 2,
     "metadata": {},
     "output_type": "execute_result"
    }
   ],
   "source": [
    "df = pd.read_csv('./datasets/scores400.csv')\n",
    "scores = np.array(df['score'])\n",
    "scores[:10]"
   ]
  },
  {
   "cell_type": "code",
   "execution_count": 3,
   "metadata": {
    "ExecuteTime": {
     "end_time": "2018-08-14T06:47:18.710063Z",
     "start_time": "2018-08-14T06:47:18.706621Z"
    },
    "id": "_4uxjuS_PPlH",
    "outputId": "367d9841-7fe5-49c6-e1d4-f6ce1d74dca5"
   },
   "outputs": [
    {
     "data": {
      "text/plain": [
       "array([3, 2, 1])"
      ]
     },
     "execution_count": 3,
     "metadata": {},
     "output_type": "execute_result"
    }
   ],
   "source": [
    "np.random.choice([1, 2, 3], 3)"
   ]
  },
  {
   "cell_type": "code",
   "execution_count": 4,
   "metadata": {
    "ExecuteTime": {
     "end_time": "2018-08-14T06:47:18.714348Z",
     "start_time": "2018-08-14T06:47:18.711029Z"
    },
    "id": "KGe86n3RPPlH",
    "outputId": "9306a348-861d-44f3-a060-e3e66e2c4216"
   },
   "outputs": [
    {
     "data": {
      "text/plain": [
       "array([1, 3, 2])"
      ]
     },
     "execution_count": 4,
     "metadata": {},
     "output_type": "execute_result"
    }
   ],
   "source": [
    "np.random.choice([1, 2, 3], 3, replace=False)"
   ]
  },
  {
   "cell_type": "code",
   "execution_count": 5,
   "metadata": {
    "ExecuteTime": {
     "end_time": "2018-08-14T06:47:18.718669Z",
     "start_time": "2018-08-14T06:47:18.715323Z"
    },
    "id": "FcKa-L29PPlI",
    "outputId": "9de616de-6e59-4d17-a251-c88ed0cda5cd"
   },
   "outputs": [
    {
     "data": {
      "text/plain": [
       "array([1, 2, 1])"
      ]
     },
     "execution_count": 5,
     "metadata": {},
     "output_type": "execute_result"
    }
   ],
   "source": [
    "np.random.seed(0)\n",
    "np.random.choice([1, 2, 3], 3)"
   ]
  },
  {
   "cell_type": "code",
   "execution_count": 6,
   "metadata": {
    "ExecuteTime": {
     "end_time": "2018-08-14T06:47:18.722968Z",
     "start_time": "2018-08-14T06:47:18.719676Z"
    },
    "id": "QTyZzGkXPPlI",
    "outputId": "e8d58a40-d2e9-4c3e-a2aa-27eae40cc434"
   },
   "outputs": [
    {
     "data": {
      "text/plain": [
       "70.400"
      ]
     },
     "execution_count": 6,
     "metadata": {},
     "output_type": "execute_result"
    }
   ],
   "source": [
    "np.random.seed(0)\n",
    "sample = np.random.choice(scores, 20)\n",
    "\n",
    "sample.mean()"
   ]
  },
  {
   "cell_type": "code",
   "execution_count": 7,
   "metadata": {
    "ExecuteTime": {
     "end_time": "2018-08-14T06:47:18.726978Z",
     "start_time": "2018-08-14T06:47:18.724063Z"
    },
    "id": "mVGPrIrXPPlJ",
    "outputId": "4f98a768-91b6-4ff0-ff3d-2a5437dbc5d4"
   },
   "outputs": [
    {
     "data": {
      "text/plain": [
       "69.530"
      ]
     },
     "execution_count": 7,
     "metadata": {},
     "output_type": "execute_result"
    }
   ],
   "source": [
    "scores.mean()"
   ]
  },
  {
   "cell_type": "code",
   "execution_count": 8,
   "metadata": {
    "ExecuteTime": {
     "end_time": "2018-08-14T06:47:18.731373Z",
     "start_time": "2018-08-14T06:47:18.727854Z"
    },
    "id": "s3X7LFh_PPlJ",
    "outputId": "35c91682-abba-4c19-ae2e-c9dcfc456483"
   },
   "outputs": [
    {
     "name": "stdout",
     "output_type": "stream",
     "text": [
      "1번째 무작위 추출로 얻은 표본평균 72.45\n",
      "2번째 무작위 추출로 얻은 표본평균 63.7\n",
      "3번째 무작위 추출로 얻은 표본평균 66.05\n",
      "4번째 무작위 추출로 얻은 표본평균 71.7\n",
      "5번째 무작위 추출로 얻은 표본평균 74.15\n"
     ]
    }
   ],
   "source": [
    "for i in range(5):\n",
    "    sample = np.random.choice(scores, 20)\n",
    "    print(f'{i+1}번째 무작위 추출로 얻은 표본평균', sample.mean())"
   ]
  },
  {
   "cell_type": "markdown",
   "metadata": {
    "id": "uwnk9BUuPPlJ"
   },
   "source": [
    "## 확률 모델"
   ]
  },
  {
   "cell_type": "markdown",
   "metadata": {
    "id": "wjKzoOjPPPlK"
   },
   "source": [
    "### 확률의 기본"
   ]
  },
  {
   "cell_type": "code",
   "execution_count": 9,
   "metadata": {
    "ExecuteTime": {
     "end_time": "2018-08-14T06:47:19.591784Z",
     "start_time": "2018-08-14T06:47:19.266201Z"
    },
    "id": "rYT5uQ7ZPPlK",
    "outputId": "6f719638-30e2-4e9c-c2ea-e44919884762"
   },
   "outputs": [
    {
     "data": {
      "image/png": "[encoded data removed]",
      "text/plain": [
       "<Figure size 1000x600 with 1 Axes>"
      ]
     },
     "metadata": {},
     "output_type": "display_data"
    }
   ],
   "source": [
    "sample_means = [np.random.choice(scores, 20).mean()\n",
    "                for _ in range(10000)]\n",
    "\n",
    "fig = plt.figure(figsize=(10, 6))\n",
    "ax = fig.add_subplot(111)\n",
    "ax.hist(sample_means, bins=100, range=(0, 100), density=True)\n",
    "# 모평균을 세로선으로 표시\n",
    "ax.vlines(np.mean(scores), 0, 1, 'gray')\n",
    "ax.set_xlim(50, 90)\n",
    "ax.set_ylim(0, 0.13)\n",
    "ax.set_xlabel('score')\n",
    "ax.set_ylabel('relative frequency')\n",
    "plt.show()"
   ]
  },
  {
   "cell_type": "code",
   "execution_count": 10,
   "metadata": {
    "id": "2F0XjZ7LlHMh",
    "outputId": "4bbb7fe7-0741-43db-ee49-a301b37b8c93"
   },
   "outputs": [
    {
     "name": "stdout",
     "output_type": "stream",
     "text": [
      "{1, 2, 3}\n",
      "frozenset({'T', 'H'})\n",
      "{'♣', '♠', '♡', '♢'}\n",
      "<class 'set'>\n"
     ]
    }
   ],
   "source": [
    "A=set([1, 2, 3, 3, 2])  # 중복된 자료는 없어진다.\n",
    "print(A)\n",
    "\n",
    "B= frozenset(['H', 'T'])\n",
    "print(B)\n",
    "\n",
    "C={\"\\u2660\", \"\\u2661\", \"\\u2662\", \"\\u2663\"}\n",
    "print(C)\n",
    "\n",
    "print(type(C))"
   ]
  },
  {
   "cell_type": "code",
   "execution_count": 11,
   "metadata": {
    "id": "ZA4tBgK1lHMh",
    "outputId": "23d6c423-b2ef-4531-eab5-c3db13d8dd50"
   },
   "outputs": [
    {
     "name": "stdout",
     "output_type": "stream",
     "text": [
      "{1, 2, 3, 4, 6}\n",
      "{1, 2, 3, 4, 6}\n",
      "{2, 3}\n",
      "{2, 3}\n"
     ]
    }
   ],
   "source": [
    "A1 = set([1, 2, 3, 4])\n",
    "A2 = set([2, 4, 6])\n",
    "A3 = set([1, 2, 3])\n",
    "A4 = set([2, 3, 4, 5, 6])\n",
    "\n",
    "print(A1.union(A2))\n",
    "print(A2 | A1)\n",
    "print(A3.intersection(A4))\n",
    "print(A4 & A3)"
   ]
  },
  {
   "cell_type": "code",
   "execution_count": 12,
   "metadata": {
    "id": "DFJIGmMulHMh",
    "outputId": "3f8a9cdd-a7ff-43a6-ddc2-0c67e5405d57"
   },
   "outputs": [
    {
     "name": "stdout",
     "output_type": "stream",
     "text": [
      "True\n",
      "True\n",
      "False\n",
      "False\n",
      "True\n",
      "False\n"
     ]
    }
   ],
   "source": [
    "print(A3.issubset(A1))\n",
    "print(A3 <= A1)\n",
    "print(A3.issubset(A2))\n",
    "print(A3 <= A2)\n",
    "print(A3 <= A3)  # 모든 집합은 자기 자신의 부분집합이다.\n",
    "print(A3 < A3)  # 모든 집합은 자기 자신의 진부분집합이 아니다."
   ]
  },
  {
   "cell_type": "code",
   "execution_count": 13,
   "metadata": {
    "id": "6Bf93WWdlHMh",
    "outputId": "7c221b23-df16-4adf-ff45-a4afd9b62761"
   },
   "outputs": [
    {
     "name": "stdout",
     "output_type": "stream",
     "text": [
      "{1, 3}\n",
      "{1, 3}\n"
     ]
    }
   ],
   "source": [
    "print(A1.difference(A2))\n",
    "print(A1 - A2)"
   ]
  },
  {
   "cell_type": "code",
   "execution_count": 14,
   "metadata": {
    "id": "LzEH7X9VlHMh",
    "outputId": "0384d0d8-d1fc-44ee-cc27-71a7cf9bf83b"
   },
   "outputs": [
    {
     "name": "stdout",
     "output_type": "stream",
     "text": [
      "set()\n",
      "True\n",
      "set()\n",
      "{1, 2, 3, 4}\n"
     ]
    }
   ],
   "source": [
    "empty_set = set([])\n",
    "print(empty_set)\n",
    "print(empty_set < A1)\n",
    "print(empty_set.intersection(A1))\n",
    "print(empty_set.union(A1))"
   ]
  },
  {
   "cell_type": "markdown",
   "metadata": {},
   "source": [
    "# 확률"
   ]
  },
  {
   "cell_type": "code",
   "execution_count": 1,
   "metadata": {
    "id": "SE2CL19plHMi",
    "outputId": "00e6e782-f3a2-40a3-f28e-a6d56c663e79"
   },
   "outputs": [
    {
     "name": "stdout",
     "output_type": "stream",
     "text": [
      "Collecting pgmpy\n",
      "  Using cached pgmpy-0.1.25-py3-none-any.whl.metadata (6.4 kB)\n",
      "Requirement already satisfied: networkx in c:\\dev\\miniconda3\\envs\\py38_basic\\lib\\site-packages (from pgmpy) (3.1)\n",
      "Requirement already satisfied: numpy in c:\\users\\k8s\\appdata\\roaming\\python\\python38\\site-packages (from pgmpy) (1.24.4)\n",
      "Requirement already satisfied: scipy in c:\\users\\k8s\\appdata\\roaming\\python\\python38\\site-packages (from pgmpy) (1.10.1)\n",
      "Requirement already satisfied: scikit-learn in c:\\dev\\miniconda3\\envs\\py38_basic\\lib\\site-packages (from pgmpy) (1.3.0)\n",
      "Requirement already satisfied: pandas in c:\\users\\k8s\\appdata\\roaming\\python\\python38\\site-packages (from pgmpy) (2.0.3)\n",
      "Requirement already satisfied: pyparsing in c:\\users\\k8s\\appdata\\roaming\\python\\python38\\site-packages (from pgmpy) (3.1.2)\n",
      "Requirement already satisfied: torch in c:\\dev\\miniconda3\\envs\\py38_basic\\lib\\site-packages (from pgmpy) (2.3.0)\n",
      "Requirement already satisfied: statsmodels in c:\\dev\\miniconda3\\envs\\py38_basic\\lib\\site-packages (from pgmpy) (0.14.1)\n",
      "Requirement already satisfied: tqdm in c:\\dev\\miniconda3\\envs\\py38_basic\\lib\\site-packages (from pgmpy) (4.66.4)\n",
      "Requirement already satisfied: joblib in c:\\dev\\miniconda3\\envs\\py38_basic\\lib\\site-packages (from pgmpy) (1.4.0)\n",
      "Requirement already satisfied: opt-einsum in c:\\dev\\miniconda3\\envs\\py38_basic\\lib\\site-packages (from pgmpy) (3.3.0)\n",
      "Requirement already satisfied: python-dateutil>=2.8.2 in c:\\dev\\miniconda3\\envs\\py38_basic\\lib\\site-packages (from pandas->pgmpy) (2.9.0.post0)\n",
      "Requirement already satisfied: pytz>=2020.1 in c:\\users\\k8s\\appdata\\roaming\\python\\python38\\site-packages (from pandas->pgmpy) (2024.1)\n",
      "Requirement already satisfied: tzdata>=2022.1 in c:\\users\\k8s\\appdata\\roaming\\python\\python38\\site-packages (from pandas->pgmpy) (2024.1)\n",
      "Requirement already satisfied: threadpoolctl>=2.0.0 in c:\\dev\\miniconda3\\envs\\py38_basic\\lib\\site-packages (from scikit-learn->pgmpy) (2.2.0)\n",
      "Requirement already satisfied: patsy>=0.5.4 in c:\\dev\\miniconda3\\envs\\py38_basic\\lib\\site-packages (from statsmodels->pgmpy) (0.5.6)\n",
      "Requirement already satisfied: packaging>=21.3 in c:\\dev\\miniconda3\\envs\\py38_basic\\lib\\site-packages (from statsmodels->pgmpy) (23.2)\n",
      "Requirement already satisfied: filelock in c:\\dev\\miniconda3\\envs\\py38_basic\\lib\\site-packages (from torch->pgmpy) (3.14.0)\n",
      "Requirement already satisfied: typing-extensions>=4.8.0 in c:\\dev\\miniconda3\\envs\\py38_basic\\lib\\site-packages (from torch->pgmpy) (4.11.0)\n",
      "Requirement already satisfied: sympy in c:\\dev\\miniconda3\\envs\\py38_basic\\lib\\site-packages (from torch->pgmpy) (1.12.1)\n",
      "Requirement already satisfied: jinja2 in c:\\dev\\miniconda3\\envs\\py38_basic\\lib\\site-packages (from torch->pgmpy) (3.1.4)\n",
      "Requirement already satisfied: fsspec in c:\\dev\\miniconda3\\envs\\py38_basic\\lib\\site-packages (from torch->pgmpy) (2024.5.0)\n",
      "Requirement already satisfied: mkl<=2021.4.0,>=2021.1.1 in c:\\dev\\miniconda3\\envs\\py38_basic\\lib\\site-packages (from torch->pgmpy) (2021.4.0)\n",
      "Requirement already satisfied: colorama in c:\\dev\\miniconda3\\envs\\py38_basic\\lib\\site-packages (from tqdm->pgmpy) (0.4.6)\n",
      "Requirement already satisfied: intel-openmp==2021.* in c:\\dev\\miniconda3\\envs\\py38_basic\\lib\\site-packages (from mkl<=2021.4.0,>=2021.1.1->torch->pgmpy) (2021.4.0)\n",
      "Requirement already satisfied: tbb==2021.* in c:\\dev\\miniconda3\\envs\\py38_basic\\lib\\site-packages (from mkl<=2021.4.0,>=2021.1.1->torch->pgmpy) (2021.12.0)\n",
      "Requirement already satisfied: six in c:\\dev\\miniconda3\\envs\\py38_basic\\lib\\site-packages (from patsy>=0.5.4->statsmodels->pgmpy) (1.16.0)\n",
      "Requirement already satisfied: MarkupSafe>=2.0 in c:\\dev\\miniconda3\\envs\\py38_basic\\lib\\site-packages (from jinja2->torch->pgmpy) (2.1.5)\n",
      "Requirement already satisfied: mpmath<1.4.0,>=1.1.0 in c:\\dev\\miniconda3\\envs\\py38_basic\\lib\\site-packages (from sympy->torch->pgmpy) (1.3.0)\n",
      "Using cached pgmpy-0.1.25-py3-none-any.whl (2.0 MB)\n",
      "Installing collected packages: pgmpy\n",
      "Successfully installed pgmpy-0.1.25\n",
      "Note: you may need to restart the kernel to use updated packages.\n"
     ]
    }
   ],
   "source": [
    "pip install pgmpy"
   ]
  },
  {
   "cell_type": "code",
   "execution_count": 1,
   "metadata": {
    "id": "qL0Vv8SVlHMi",
    "outputId": "5eaf088c-7290-44f7-85de-84b0542c7a0c"
   },
   "outputs": [
    {
     "name": "stdout",
     "output_type": "stream",
     "text": [
      "+------+--------+\n",
      "| X    |   P(X) |\n",
      "+======+========+\n",
      "| X(0) | 0.6000 |\n",
      "+------+--------+\n",
      "| X(1) | 0.4000 |\n",
      "+------+--------+\n",
      "+------+--------+\n",
      "| Y    |   P(Y) |\n",
      "+======+========+\n",
      "| Y(0) | 0.6000 |\n",
      "+------+--------+\n",
      "| Y(1) | 0.4000 |\n",
      "+------+--------+\n"
     ]
    }
   ],
   "source": [
    "import numpy as np\n",
    "from pgmpy.factors.discrete import JointProbabilityDistribution as JPD\n",
    "\n",
    "px = JPD(['X'], [2], np.array([12, 8]) / 20)\n",
    "print(px)\n",
    "\n",
    "py = JPD(['Y'], [2], np.array([12, 8]) / 20)\n",
    "print(py)"
   ]
  },
  {
   "cell_type": "code",
   "execution_count": 2,
   "metadata": {
    "id": "ajAlI4tvlHMi",
    "outputId": "5360fd39-a763-40b0-f4cc-f72c86efa851"
   },
   "outputs": [
    {
     "name": "stdout",
     "output_type": "stream",
     "text": [
      "+------+------+----------+\n",
      "| X    | Y    |   P(X,Y) |\n",
      "+======+======+==========+\n",
      "| X(0) | Y(0) |   0.1500 |\n",
      "+------+------+----------+\n",
      "| X(0) | Y(1) |   0.4500 |\n",
      "+------+------+----------+\n",
      "| X(1) | Y(0) |   0.3500 |\n",
      "+------+------+----------+\n",
      "| X(1) | Y(1) |   0.0500 |\n",
      "+------+------+----------+\n"
     ]
    }
   ],
   "source": [
    "pxy = JPD(['X', 'Y'], [2, 2], np.array([3, 9, 7, 1]) / 20)\n",
    "print(pxy)"
   ]
  },
  {
   "cell_type": "code",
   "execution_count": 3,
   "metadata": {
    "id": "xe-2fzGRlHMi",
    "outputId": "b287c4af-7f25-4b25-9db7-a4835bb5c12a"
   },
   "outputs": [
    {
     "name": "stdout",
     "output_type": "stream",
     "text": [
      "+------+--------+\n",
      "| Y    |   P(Y) |\n",
      "+======+========+\n",
      "| Y(0) | 0.2500 |\n",
      "+------+--------+\n",
      "| Y(1) | 0.7500 |\n",
      "+------+--------+\n",
      "+------+--------+\n",
      "| Y    |   P(Y) |\n",
      "+======+========+\n",
      "| Y(0) | 0.8750 |\n",
      "+------+--------+\n",
      "| Y(1) | 0.1250 |\n",
      "+------+--------+\n",
      "+------+--------+\n",
      "| X    |   P(X) |\n",
      "+======+========+\n",
      "| X(0) | 0.3000 |\n",
      "+------+--------+\n",
      "| X(1) | 0.7000 |\n",
      "+------+--------+\n"
     ]
    }
   ],
   "source": [
    "py_on_x0 = pxy.conditional_distribution([('X', 0)], inplace=False)  # 사건 A에 대한 조건부확률\n",
    "print(py_on_x0)\n",
    "\n",
    "py_on_x1 = pxy.conditional_distribution([('X', 1)], inplace=False)\n",
    "print(py_on_x1)\n",
    "\n",
    "px_on_y0 = pxy.conditional_distribution([('Y', 0)], inplace=False)  # 사건 B에 대한 조건부확률\n",
    "print(px_on_y0)"
   ]
  },
  {
   "cell_type": "code",
   "execution_count": 4,
   "metadata": {
    "id": "M3pj9XGOlHMi",
    "outputId": "d261ab66-cf4b-4651-f79b-a7c27a988fa5"
   },
   "outputs": [
    {
     "name": "stdout",
     "output_type": "stream",
     "text": [
      "+------+-------+\n",
      "| X(0) | 0.998 |\n",
      "+------+-------+\n",
      "| X(1) | 0.002 |\n",
      "+------+-------+\n"
     ]
    }
   ],
   "source": [
    "from pgmpy.factors.discrete import TabularCPD\n",
    "\n",
    "cpd_X = TabularCPD('X', 2, [[1 - 0.002], [0.002]])\n",
    "print(cpd_X)"
   ]
  },
  {
   "cell_type": "code",
   "execution_count": 5,
   "metadata": {
    "id": "V2DN91v0lHMi",
    "outputId": "900cf5c1-30ee-46fd-dd50-ae1700c577db"
   },
   "outputs": [
    {
     "name": "stdout",
     "output_type": "stream",
     "text": [
      "+------+------+------+\n",
      "| X    | X(0) | X(1) |\n",
      "+------+------+------+\n",
      "| Y(0) | 0.95 | 0.01 |\n",
      "+------+------+------+\n",
      "| Y(1) | 0.05 | 0.99 |\n",
      "+------+------+------+\n"
     ]
    }
   ],
   "source": [
    "cpd_Y_on_X = TabularCPD('Y', 2, np.array([[0.95, 0.01], [0.05, 0.99]]),\n",
    "                        evidence=['X'], evidence_card=[2])\n",
    "print(cpd_Y_on_X)"
   ]
  },
  {
   "cell_type": "code",
   "execution_count": 6,
   "metadata": {
    "id": "URGw_M_vPOPl",
    "outputId": "7a1d7024-33de-4a71-a3b9-7fd7eb26676a"
   },
   "outputs": [
    {
     "name": "stderr",
     "output_type": "stream",
     "text": [
      "WARNING:pgmpy:BayesianModel has been renamed to BayesianNetwork. Please use BayesianNetwork class, BayesianModel will be removed in future.\n"
     ]
    },
    {
     "data": {
      "text/plain": [
       "True"
      ]
     },
     "execution_count": 6,
     "metadata": {},
     "output_type": "execute_result"
    }
   ],
   "source": [
    "from pgmpy.models import BayesianModel\n",
    "\n",
    "model = BayesianModel([('X', 'Y')])\n",
    "model.add_cpds(cpd_X, cpd_Y_on_X)\n",
    "model.check_model()"
   ]
  },
  {
   "cell_type": "code",
   "execution_count": 7,
   "metadata": {
    "id": "cCmSo1f3lHMj",
    "outputId": "1ef3097f-7562-402d-b765-c0d3ec090e3e"
   },
   "outputs": [
    {
     "name": "stderr",
     "output_type": "stream",
     "text": [
      "WARNING:pgmpy:BayesianModel has been renamed to BayesianNetwork. Please use BayesianNetwork class, BayesianModel will be removed in future.\n",
      "WARNING:pgmpy:BayesianModel has been renamed to BayesianNetwork. Please use BayesianNetwork class, BayesianModel will be removed in future.\n"
     ]
    },
    {
     "name": "stdout",
     "output_type": "stream",
     "text": [
      "+------+----------+\n",
      "| X    |   phi(X) |\n",
      "+======+==========+\n",
      "| X(0) |   0.9618 |\n",
      "+------+----------+\n",
      "| X(1) |   0.0382 |\n",
      "+------+----------+\n"
     ]
    }
   ],
   "source": [
    "from pgmpy.inference import VariableElimination\n",
    "\n",
    "inference = VariableElimination(model)\n",
    "posterior = inference.query(['X'], evidence={'Y': 1})\n",
    "print(posterior)"
   ]
  },
  {
   "cell_type": "markdown",
   "metadata": {
    "id": "tU904TcwlHMj"
   },
   "source": [
    "### Question 1"
   ]
  },
  {
   "cell_type": "code",
   "execution_count": 8,
   "metadata": {},
   "outputs": [
    {
     "data": {
      "text/plain": [
       "array([1, 2, 1])"
      ]
     },
     "metadata": {},
     "output_type": "display_data"
    },
    {
     "data": {
      "text/plain": [
       "array([1, 3, 2])"
      ]
     },
     "metadata": {},
     "output_type": "display_data"
    }
   ],
   "source": [
    "display(np.random.choice([1, 2, 3], 3))\n",
    "\n",
    "display(np.random.choice([1, 2, 3], 3, replace=False))"
   ]
  },
  {
   "cell_type": "markdown",
   "metadata": {
    "id": "YUDkvc3UlHMj"
   },
   "source": [
    "### Question 2"
   ]
  },
  {
   "cell_type": "code",
   "execution_count": 9,
   "metadata": {},
   "outputs": [
    {
     "data": {
      "text/html": [
       "<div>\n",
       "<style scoped>\n",
       "    .dataframe tbody tr th:only-of-type {\n",
       "        vertical-align: middle;\n",
       "    }\n",
       "\n",
       "    .dataframe tbody tr th {\n",
       "        vertical-align: top;\n",
       "    }\n",
       "\n",
       "    .dataframe thead th {\n",
       "        text-align: right;\n",
       "    }\n",
       "</style>\n",
       "<table border=\"1\" class=\"dataframe\">\n",
       "  <thead>\n",
       "    <tr style=\"text-align: right;\">\n",
       "      <th></th>\n",
       "      <th>score</th>\n",
       "    </tr>\n",
       "  </thead>\n",
       "  <tbody>\n",
       "    <tr>\n",
       "      <th>0</th>\n",
       "      <td>76</td>\n",
       "    </tr>\n",
       "    <tr>\n",
       "      <th>1</th>\n",
       "      <td>55</td>\n",
       "    </tr>\n",
       "    <tr>\n",
       "      <th>2</th>\n",
       "      <td>80</td>\n",
       "    </tr>\n",
       "    <tr>\n",
       "      <th>3</th>\n",
       "      <td>80</td>\n",
       "    </tr>\n",
       "    <tr>\n",
       "      <th>4</th>\n",
       "      <td>74</td>\n",
       "    </tr>\n",
       "    <tr>\n",
       "      <th>...</th>\n",
       "      <td>...</td>\n",
       "    </tr>\n",
       "    <tr>\n",
       "      <th>395</th>\n",
       "      <td>77</td>\n",
       "    </tr>\n",
       "    <tr>\n",
       "      <th>396</th>\n",
       "      <td>60</td>\n",
       "    </tr>\n",
       "    <tr>\n",
       "      <th>397</th>\n",
       "      <td>83</td>\n",
       "    </tr>\n",
       "    <tr>\n",
       "      <th>398</th>\n",
       "      <td>80</td>\n",
       "    </tr>\n",
       "    <tr>\n",
       "      <th>399</th>\n",
       "      <td>85</td>\n",
       "    </tr>\n",
       "  </tbody>\n",
       "</table>\n",
       "<p>400 rows × 1 columns</p>\n",
       "</div>"
      ],
      "text/plain": [
       "     score\n",
       "0       76\n",
       "1       55\n",
       "2       80\n",
       "3       80\n",
       "4       74\n",
       "..     ...\n",
       "395     77\n",
       "396     60\n",
       "397     83\n",
       "398     80\n",
       "399     85\n",
       "\n",
       "[400 rows x 1 columns]"
      ]
     },
     "execution_count": 9,
     "metadata": {},
     "output_type": "execute_result"
    }
   ],
   "source": [
    "import numpy as np\n",
    "import pandas as pd\n",
    "import matplotlib.pyplot as plt\n",
    "\n",
    "%precision 3\n",
    "%matplotlib inline\n",
    "\n",
    "df = pd.read_csv('https://raw.githubusercontent.com/kznetwork/DataAnalysis/main/datasets/scores400.csv')\n",
    "df"
   ]
  },
  {
   "cell_type": "code",
   "execution_count": 12,
   "metadata": {},
   "outputs": [
    {
     "data": {
      "text/plain": [
       "array([76, 55, 80, 80, 74, 61, 81, 76, 23, 80], dtype=int64)"
      ]
     },
     "metadata": {},
     "output_type": "display_data"
    },
    {
     "name": "stdout",
     "output_type": "stream",
     "text": [
      "복원 추출 (With Replacement): [68 62 49 82 49 73 69 52 69 85]\n",
      "비복원 추출 (Without Replacement): [49 86 45 55 63 60 76 77 58 86]\n"
     ]
    }
   ],
   "source": [
    "scores = np.array(df['score'])\n",
    "display(scores[:10])\n",
    "\n",
    "# 복원 추출 (With Replacement)\n",
    "sample_with_replacement = np.random.choice(scores, 10, replace=True)\n",
    "print(\"복원 추출 (With Replacement):\", sample_with_replacement)\n",
    "\n",
    "# 비복원 추출 (Without Replacement)\n",
    "sample_without_replacement = np.random.choice(scores, 10, replace=False)\n",
    "print(\"비복원 추출 (Without Replacement):\", sample_without_replacement)"
   ]
  },
  {
   "cell_type": "markdown",
   "metadata": {
    "id": "921XzHidlHMj"
   },
   "source": [
    "### Question 3"
   ]
  },
  {
   "cell_type": "code",
   "execution_count": 13,
   "metadata": {},
   "outputs": [
    {
     "data": {
      "text/plain": [
       "True"
      ]
     },
     "execution_count": 13,
     "metadata": {},
     "output_type": "execute_result"
    }
   ],
   "source": [
    "A = set([1,3,5])\n",
    "B = set([1,2,3])\n",
    "C = set([2,4,6])\n",
    "A | ( B & C) == (A | B) & (A | C)"
   ]
  },
  {
   "cell_type": "code",
   "execution_count": 14,
   "metadata": {},
   "outputs": [
    {
     "data": {
      "text/plain": [
       "True"
      ]
     },
     "execution_count": 14,
     "metadata": {},
     "output_type": "execute_result"
    }
   ],
   "source": [
    "A & ( B | C) == (A & B) | (A & C)"
   ]
  },
  {
   "cell_type": "markdown",
   "metadata": {
    "id": "ma47c9FGlHMj"
   },
   "source": [
    "### Question 4"
   ]
  },
  {
   "cell_type": "code",
   "execution_count": 15,
   "metadata": {},
   "outputs": [
    {
     "data": {
      "text/plain": [
       "{frozenset({'A'}): 0.700, frozenset({'O'}): 0.429}"
      ]
     },
     "execution_count": 15,
     "metadata": {},
     "output_type": "execute_result"
    }
   ],
   "source": [
    "P = {}\n",
    "P[frozenset('A')] = 70 / 100\n",
    "P[frozenset('O')] =  30 / 70\n",
    "P"
   ]
  },
  {
   "cell_type": "markdown",
   "metadata": {
    "id": "rgfLEXV-lHMj"
   },
   "source": [
    "### Question 5"
   ]
  },
  {
   "cell_type": "code",
   "execution_count": 16,
   "metadata": {},
   "outputs": [
    {
     "name": "stdout",
     "output_type": "stream",
     "text": [
      "+------+-------+\n",
      "| X(0) | 0.998 |\n",
      "+------+-------+\n",
      "| X(1) | 0.002 |\n",
      "+------+-------+\n"
     ]
    }
   ],
   "source": [
    "from pgmpy.factors.discrete import TabularCPD\n",
    "import numpy as np\n",
    "\n",
    "# 정정된 조건부 확률 분포 값을 정의합니다.\n",
    "values = np.array([[1 - 0.002], [0.002]])\n",
    "\n",
    "# TabularCPD 객체를 수정된 값으로 생성합니다.\n",
    "cpd_X = TabularCPD('X', 2, values.tolist())\n",
    "print(cpd_X)"
   ]
  },
  {
   "cell_type": "code",
   "execution_count": 17,
   "metadata": {},
   "outputs": [
    {
     "name": "stdout",
     "output_type": "stream",
     "text": [
      "+------+------+------+\n",
      "| X    | X(0) | X(1) |\n",
      "+------+------+------+\n",
      "| Y(0) | 0.95 | 0.01 |\n",
      "+------+------+------+\n",
      "| Y(1) | 0.05 | 0.99 |\n",
      "+------+------+------+\n"
     ]
    }
   ],
   "source": [
    "cpd_Y_on_X = TabularCPD('Y', 2, np.array([[0.95, 0.01], [0.05, 0.99]]),\n",
    "                        evidence=['X'], evidence_card=[2])\n",
    "print(cpd_Y_on_X)"
   ]
  },
  {
   "cell_type": "code",
   "execution_count": 18,
   "metadata": {},
   "outputs": [
    {
     "name": "stderr",
     "output_type": "stream",
     "text": [
      "WARNING:pgmpy:BayesianModel has been renamed to BayesianNetwork. Please use BayesianNetwork class, BayesianModel will be removed in future.\n"
     ]
    },
    {
     "data": {
      "text/plain": [
       "True"
      ]
     },
     "execution_count": 18,
     "metadata": {},
     "output_type": "execute_result"
    }
   ],
   "source": [
    "from pgmpy.models import BayesianModel\n",
    "\n",
    "model = BayesianModel([('X', 'Y')])\n",
    "model.add_cpds(cpd_X, cpd_Y_on_X)\n",
    "model.check_model()"
   ]
  },
  {
   "cell_type": "code",
   "execution_count": 19,
   "metadata": {},
   "outputs": [
    {
     "name": "stderr",
     "output_type": "stream",
     "text": [
      "WARNING:pgmpy:BayesianModel has been renamed to BayesianNetwork. Please use BayesianNetwork class, BayesianModel will be removed in future.\n",
      "WARNING:pgmpy:BayesianModel has been renamed to BayesianNetwork. Please use BayesianNetwork class, BayesianModel will be removed in future.\n"
     ]
    },
    {
     "name": "stdout",
     "output_type": "stream",
     "text": [
      "[0.962 0.038]\n"
     ]
    }
   ],
   "source": [
    "from pgmpy.inference import VariableElimination\n",
    "\n",
    "# 'model'에는 Bayesian Network 모델이 정의되어 있어야 합니다.\n",
    "\n",
    "inference = VariableElimination(model)\n",
    "posterior = inference.query(['X'], evidence={'Y': 1})\n",
    "print(posterior.values)"
   ]
  },
  {
   "cell_type": "code",
   "execution_count": null,
   "metadata": {},
   "outputs": [],
   "source": []
  },
  {
   "cell_type": "code",
   "execution_count": null,
   "metadata": {},
   "outputs": [],
   "source": []
  }
 ],
 "metadata": {
  "colab": {
   "provenance": []
  },
  "kernelspec": {
   "display_name": "py38_basic",
   "language": "python",
   "name": "py38_basic"
  },
  "language_info": {
   "codemirror_mode": {
    "name": "ipython",
    "version": 3
   },
   "file_extension": ".py",
   "mimetype": "text/x-python",
   "name": "python",
   "nbconvert_exporter": "python",
   "pygments_lexer": "ipython3",
   "version": "3.8.19"
  },
  "toc": {
   "nav_menu": {},
   "number_sections": true,
   "sideBar": true,
   "skip_h1_title": false,
   "toc_cell": false,
   "toc_position": {},
   "toc_section_display": "block",
   "toc_window_display": false
  }
 },
 "nbformat": 4,
 "nbformat_minor": 4
}
