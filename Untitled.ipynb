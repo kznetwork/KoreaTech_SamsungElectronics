{
 "cells": [
  {
   "cell_type": "code",
   "execution_count": null,
   "id": "7470fdf2-82bb-4c89-be1c-5daf2b863cd3",
   "metadata": {},
   "outputs": [],
   "source": []
  }
 ],
 "metadata": {
  "kernelspec": {
   "display_name": "",
   "name": ""
  },
  "language_info": {
   "name": ""
  }
 },
 "nbformat": 4,
 "nbformat_minor": 5
}
